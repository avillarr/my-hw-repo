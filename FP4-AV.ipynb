{
 "cells": [
  {
   "cell_type": "markdown",
   "metadata": {},
   "source": [
    "## Vimeo OTT - Free Trial Conversion Predictor"
   ]
  },
  {
   "cell_type": "code",
   "execution_count": 1,
   "metadata": {},
   "outputs": [
    {
     "name": "stderr",
     "output_type": "stream",
     "text": [
      "/Users/villarreala/anaconda2/lib/python2.7/site-packages/sklearn/cross_validation.py:41: DeprecationWarning: This module was deprecated in version 0.18 in favor of the model_selection module into which all the refactored classes and functions are moved. Also note that the interface of the new CV iterators are different from that of this module. This module will be removed in 0.20.\n",
      "  \"This module will be removed in 0.20.\", DeprecationWarning)\n"
     ]
    }
   ],
   "source": [
    "import pandas as pd\n",
    "import numpy as np\n",
    "from sklearn.linear_model import LogisticRegression\n",
    "from sklearn.ensemble import RandomForestClassifier, GradientBoostingClassifier, AdaBoostClassifier\n",
    "from sklearn.tree import DecisionTreeClassifier\n",
    "from sklearn.cross_validation import cross_val_score\n",
    "from sklearn.metrics import confusion_matrix\n",
    "import random\n",
    "import pdb\n",
    "import time\n",
    "from matplotlib import pyplot as plt\n",
    "import seaborn as sns\n",
    "%matplotlib inline"
   ]
  },
  {
   "cell_type": "markdown",
   "metadata": {},
   "source": [
    "### Data Cleaning"
   ]
  },
  {
   "cell_type": "code",
   "execution_count": 2,
   "metadata": {
    "collapsed": true
   },
   "outputs": [],
   "source": [
    "free_trials = pd.read_csv('/Users/villarreala/Desktop/free_trials.csv', low_memory=False)\n",
    "video_events = pd.read_csv('/Users/villarreala/Desktop/video_events.csv', low_memory=False)"
   ]
  },
  {
   "cell_type": "code",
   "execution_count": 3,
   "metadata": {
    "collapsed": true
   },
   "outputs": [],
   "source": [
    "free_trials.user_id = free_trials.user_id.astype(int)"
   ]
  },
  {
   "cell_type": "code",
   "execution_count": 4,
   "metadata": {},
   "outputs": [
    {
     "data": {
      "text/html": [
       "<div>\n",
       "<style scoped>\n",
       "    .dataframe tbody tr th:only-of-type {\n",
       "        vertical-align: middle;\n",
       "    }\n",
       "\n",
       "    .dataframe tbody tr th {\n",
       "        vertical-align: top;\n",
       "    }\n",
       "\n",
       "    .dataframe thead th {\n",
       "        text-align: right;\n",
       "    }\n",
       "</style>\n",
       "<table border=\"1\" class=\"dataframe\">\n",
       "  <thead>\n",
       "    <tr style=\"text-align: right;\">\n",
       "      <th></th>\n",
       "      <th>user_id</th>\n",
       "      <th>user_created</th>\n",
       "      <th>city</th>\n",
       "      <th>state</th>\n",
       "      <th>country</th>\n",
       "      <th>country_code</th>\n",
       "      <th>ticket_id</th>\n",
       "      <th>ticket_created</th>\n",
       "      <th>platform</th>\n",
       "      <th>free_trial_days</th>\n",
       "      <th>site_id</th>\n",
       "      <th>top_site</th>\n",
       "      <th>promo_used</th>\n",
       "      <th>converted</th>\n",
       "      <th>time_watched</th>\n",
       "      <th>views_started</th>\n",
       "      <th>views_finished</th>\n",
       "      <th>video_count</th>\n",
       "    </tr>\n",
       "  </thead>\n",
       "  <tbody>\n",
       "    <tr>\n",
       "      <th>0</th>\n",
       "      <td>3519638</td>\n",
       "      <td>10/24/17 18:00</td>\n",
       "      <td>Quaregnon</td>\n",
       "      <td>3</td>\n",
       "      <td>Belgium</td>\n",
       "      <td>be</td>\n",
       "      <td>3183208</td>\n",
       "      <td>10/24/17 18:00</td>\n",
       "      <td>web</td>\n",
       "      <td>30</td>\n",
       "      <td>69</td>\n",
       "      <td>0</td>\n",
       "      <td>0</td>\n",
       "      <td>0</td>\n",
       "      <td>97.2</td>\n",
       "      <td>4.0</td>\n",
       "      <td>3.0</td>\n",
       "      <td>4.0</td>\n",
       "    </tr>\n",
       "    <tr>\n",
       "      <th>1</th>\n",
       "      <td>3575908</td>\n",
       "      <td>11/10/17 23:02</td>\n",
       "      <td>Selje</td>\n",
       "      <td>15</td>\n",
       "      <td>Norway</td>\n",
       "      <td>no</td>\n",
       "      <td>3238724</td>\n",
       "      <td>11/10/17 23:02</td>\n",
       "      <td>ios</td>\n",
       "      <td>30</td>\n",
       "      <td>24335</td>\n",
       "      <td>1</td>\n",
       "      <td>0</td>\n",
       "      <td>1</td>\n",
       "      <td>169.3</td>\n",
       "      <td>26.0</td>\n",
       "      <td>16.0</td>\n",
       "      <td>24.0</td>\n",
       "    </tr>\n",
       "    <tr>\n",
       "      <th>2</th>\n",
       "      <td>3575919</td>\n",
       "      <td>11/10/17 23:06</td>\n",
       "      <td>Baldwin Park</td>\n",
       "      <td>CA</td>\n",
       "      <td>United States</td>\n",
       "      <td>us</td>\n",
       "      <td>3238735</td>\n",
       "      <td>11/10/17 23:06</td>\n",
       "      <td>ios</td>\n",
       "      <td>30</td>\n",
       "      <td>24335</td>\n",
       "      <td>1</td>\n",
       "      <td>0</td>\n",
       "      <td>1</td>\n",
       "      <td>122.3</td>\n",
       "      <td>21.0</td>\n",
       "      <td>12.0</td>\n",
       "      <td>19.0</td>\n",
       "    </tr>\n",
       "    <tr>\n",
       "      <th>3</th>\n",
       "      <td>3575954</td>\n",
       "      <td>11/10/17 23:17</td>\n",
       "      <td>Mansfield</td>\n",
       "      <td>TX</td>\n",
       "      <td>United States</td>\n",
       "      <td>us</td>\n",
       "      <td>3238774</td>\n",
       "      <td>11/10/17 23:17</td>\n",
       "      <td>ios</td>\n",
       "      <td>30</td>\n",
       "      <td>24335</td>\n",
       "      <td>1</td>\n",
       "      <td>0</td>\n",
       "      <td>1</td>\n",
       "      <td>8.5</td>\n",
       "      <td>1.0</td>\n",
       "      <td>1.0</td>\n",
       "      <td>1.0</td>\n",
       "    </tr>\n",
       "    <tr>\n",
       "      <th>4</th>\n",
       "      <td>3575862</td>\n",
       "      <td>11/10/17 22:49</td>\n",
       "      <td>(null)</td>\n",
       "      <td>(null)</td>\n",
       "      <td>Germany</td>\n",
       "      <td>de</td>\n",
       "      <td>3238676</td>\n",
       "      <td>11/10/17 22:49</td>\n",
       "      <td>ios</td>\n",
       "      <td>30</td>\n",
       "      <td>24335</td>\n",
       "      <td>1</td>\n",
       "      <td>0</td>\n",
       "      <td>1</td>\n",
       "      <td>916.8</td>\n",
       "      <td>68.0</td>\n",
       "      <td>46.0</td>\n",
       "      <td>52.0</td>\n",
       "    </tr>\n",
       "  </tbody>\n",
       "</table>\n",
       "</div>"
      ],
      "text/plain": [
       "   user_id    user_created          city   state        country country_code  \\\n",
       "0  3519638  10/24/17 18:00     Quaregnon       3        Belgium           be   \n",
       "1  3575908  11/10/17 23:02         Selje      15         Norway           no   \n",
       "2  3575919  11/10/17 23:06  Baldwin Park      CA  United States           us   \n",
       "3  3575954  11/10/17 23:17     Mansfield      TX  United States           us   \n",
       "4  3575862  11/10/17 22:49        (null)  (null)        Germany           de   \n",
       "\n",
       "   ticket_id  ticket_created platform  free_trial_days  site_id  top_site  \\\n",
       "0    3183208  10/24/17 18:00      web               30       69         0   \n",
       "1    3238724  11/10/17 23:02      ios               30    24335         1   \n",
       "2    3238735  11/10/17 23:06      ios               30    24335         1   \n",
       "3    3238774  11/10/17 23:17      ios               30    24335         1   \n",
       "4    3238676  11/10/17 22:49      ios               30    24335         1   \n",
       "\n",
       "   promo_used  converted  time_watched  views_started  views_finished  \\\n",
       "0           0          0          97.2            4.0             3.0   \n",
       "1           0          1         169.3           26.0            16.0   \n",
       "2           0          1         122.3           21.0            12.0   \n",
       "3           0          1           8.5            1.0             1.0   \n",
       "4           0          1         916.8           68.0            46.0   \n",
       "\n",
       "   video_count  \n",
       "0          4.0  \n",
       "1         24.0  \n",
       "2         19.0  \n",
       "3          1.0  \n",
       "4         52.0  "
      ]
     },
     "execution_count": 4,
     "metadata": {},
     "output_type": "execute_result"
    }
   ],
   "source": [
    "data = free_trials.merge(video_events,how='left',on='user_id')\n",
    "data.head()"
   ]
  },
  {
   "cell_type": "code",
   "execution_count": 5,
   "metadata": {},
   "outputs": [
    {
     "data": {
      "text/html": [
       "<div>\n",
       "<style scoped>\n",
       "    .dataframe tbody tr th:only-of-type {\n",
       "        vertical-align: middle;\n",
       "    }\n",
       "\n",
       "    .dataframe tbody tr th {\n",
       "        vertical-align: top;\n",
       "    }\n",
       "\n",
       "    .dataframe thead th {\n",
       "        text-align: right;\n",
       "    }\n",
       "</style>\n",
       "<table border=\"1\" class=\"dataframe\">\n",
       "  <thead>\n",
       "    <tr style=\"text-align: right;\">\n",
       "      <th></th>\n",
       "      <th>user_id</th>\n",
       "      <th>user_created</th>\n",
       "      <th>city</th>\n",
       "      <th>state</th>\n",
       "      <th>country</th>\n",
       "      <th>country_code</th>\n",
       "      <th>ticket_id</th>\n",
       "      <th>ticket_created</th>\n",
       "      <th>platform</th>\n",
       "      <th>free_trial_days</th>\n",
       "      <th>...</th>\n",
       "      <th>time_watched</th>\n",
       "      <th>views_started</th>\n",
       "      <th>views_finished</th>\n",
       "      <th>video_count</th>\n",
       "      <th>domestic</th>\n",
       "      <th>completion_rate</th>\n",
       "      <th>is_web</th>\n",
       "      <th>week_ft</th>\n",
       "      <th>daily_view_time</th>\n",
       "      <th>daily_view_log</th>\n",
       "    </tr>\n",
       "  </thead>\n",
       "  <tbody>\n",
       "    <tr>\n",
       "      <th>0</th>\n",
       "      <td>3519638</td>\n",
       "      <td>10/24/17 18:00</td>\n",
       "      <td>Quaregnon</td>\n",
       "      <td>3</td>\n",
       "      <td>Belgium</td>\n",
       "      <td>be</td>\n",
       "      <td>3183208</td>\n",
       "      <td>10/24/17 18:00</td>\n",
       "      <td>web</td>\n",
       "      <td>30</td>\n",
       "      <td>...</td>\n",
       "      <td>97.2</td>\n",
       "      <td>4.0</td>\n",
       "      <td>3.0</td>\n",
       "      <td>4.0</td>\n",
       "      <td>False</td>\n",
       "      <td>0.750000</td>\n",
       "      <td>True</td>\n",
       "      <td>False</td>\n",
       "      <td>3.240000</td>\n",
       "      <td>0.510558</td>\n",
       "    </tr>\n",
       "    <tr>\n",
       "      <th>1</th>\n",
       "      <td>3575908</td>\n",
       "      <td>11/10/17 23:02</td>\n",
       "      <td>Selje</td>\n",
       "      <td>15</td>\n",
       "      <td>Norway</td>\n",
       "      <td>no</td>\n",
       "      <td>3238724</td>\n",
       "      <td>11/10/17 23:02</td>\n",
       "      <td>ios</td>\n",
       "      <td>30</td>\n",
       "      <td>...</td>\n",
       "      <td>169.3</td>\n",
       "      <td>26.0</td>\n",
       "      <td>16.0</td>\n",
       "      <td>24.0</td>\n",
       "      <td>False</td>\n",
       "      <td>0.615385</td>\n",
       "      <td>False</td>\n",
       "      <td>False</td>\n",
       "      <td>5.643333</td>\n",
       "      <td>0.751543</td>\n",
       "    </tr>\n",
       "    <tr>\n",
       "      <th>2</th>\n",
       "      <td>3575919</td>\n",
       "      <td>11/10/17 23:06</td>\n",
       "      <td>Baldwin Park</td>\n",
       "      <td>CA</td>\n",
       "      <td>United States</td>\n",
       "      <td>us</td>\n",
       "      <td>3238735</td>\n",
       "      <td>11/10/17 23:06</td>\n",
       "      <td>ios</td>\n",
       "      <td>30</td>\n",
       "      <td>...</td>\n",
       "      <td>122.3</td>\n",
       "      <td>21.0</td>\n",
       "      <td>12.0</td>\n",
       "      <td>19.0</td>\n",
       "      <td>True</td>\n",
       "      <td>0.571429</td>\n",
       "      <td>False</td>\n",
       "      <td>False</td>\n",
       "      <td>4.076667</td>\n",
       "      <td>0.610316</td>\n",
       "    </tr>\n",
       "    <tr>\n",
       "      <th>3</th>\n",
       "      <td>3575954</td>\n",
       "      <td>11/10/17 23:17</td>\n",
       "      <td>Mansfield</td>\n",
       "      <td>TX</td>\n",
       "      <td>United States</td>\n",
       "      <td>us</td>\n",
       "      <td>3238774</td>\n",
       "      <td>11/10/17 23:17</td>\n",
       "      <td>ios</td>\n",
       "      <td>30</td>\n",
       "      <td>...</td>\n",
       "      <td>8.5</td>\n",
       "      <td>1.0</td>\n",
       "      <td>1.0</td>\n",
       "      <td>1.0</td>\n",
       "      <td>True</td>\n",
       "      <td>1.000000</td>\n",
       "      <td>False</td>\n",
       "      <td>False</td>\n",
       "      <td>0.283333</td>\n",
       "      <td>-0.547549</td>\n",
       "    </tr>\n",
       "    <tr>\n",
       "      <th>4</th>\n",
       "      <td>3575862</td>\n",
       "      <td>11/10/17 22:49</td>\n",
       "      <td>(null)</td>\n",
       "      <td>(null)</td>\n",
       "      <td>Germany</td>\n",
       "      <td>de</td>\n",
       "      <td>3238676</td>\n",
       "      <td>11/10/17 22:49</td>\n",
       "      <td>ios</td>\n",
       "      <td>30</td>\n",
       "      <td>...</td>\n",
       "      <td>916.8</td>\n",
       "      <td>68.0</td>\n",
       "      <td>46.0</td>\n",
       "      <td>52.0</td>\n",
       "      <td>False</td>\n",
       "      <td>0.676471</td>\n",
       "      <td>False</td>\n",
       "      <td>False</td>\n",
       "      <td>30.560000</td>\n",
       "      <td>1.485155</td>\n",
       "    </tr>\n",
       "  </tbody>\n",
       "</table>\n",
       "<p>5 rows × 24 columns</p>\n",
       "</div>"
      ],
      "text/plain": [
       "   user_id    user_created          city   state        country country_code  \\\n",
       "0  3519638  10/24/17 18:00     Quaregnon       3        Belgium           be   \n",
       "1  3575908  11/10/17 23:02         Selje      15         Norway           no   \n",
       "2  3575919  11/10/17 23:06  Baldwin Park      CA  United States           us   \n",
       "3  3575954  11/10/17 23:17     Mansfield      TX  United States           us   \n",
       "4  3575862  11/10/17 22:49        (null)  (null)        Germany           de   \n",
       "\n",
       "   ticket_id  ticket_created platform  free_trial_days       ...        \\\n",
       "0    3183208  10/24/17 18:00      web               30       ...         \n",
       "1    3238724  11/10/17 23:02      ios               30       ...         \n",
       "2    3238735  11/10/17 23:06      ios               30       ...         \n",
       "3    3238774  11/10/17 23:17      ios               30       ...         \n",
       "4    3238676  11/10/17 22:49      ios               30       ...         \n",
       "\n",
       "   time_watched  views_started  views_finished  video_count  domestic  \\\n",
       "0          97.2            4.0             3.0          4.0     False   \n",
       "1         169.3           26.0            16.0         24.0     False   \n",
       "2         122.3           21.0            12.0         19.0      True   \n",
       "3           8.5            1.0             1.0          1.0      True   \n",
       "4         916.8           68.0            46.0         52.0     False   \n",
       "\n",
       "   completion_rate  is_web  week_ft  daily_view_time  daily_view_log  \n",
       "0         0.750000    True    False         3.240000        0.510558  \n",
       "1         0.615385   False    False         5.643333        0.751543  \n",
       "2         0.571429   False    False         4.076667        0.610316  \n",
       "3         1.000000   False    False         0.283333       -0.547549  \n",
       "4         0.676471   False    False        30.560000        1.485155  \n",
       "\n",
       "[5 rows x 24 columns]"
      ]
     },
     "execution_count": 5,
     "metadata": {},
     "output_type": "execute_result"
    }
   ],
   "source": [
    "###to_numeric\n",
    "data.free_trial_days = pd.to_numeric(data.free_trial_days)\n",
    "data.time_watched = pd.to_numeric(data.time_watched)\n",
    "data.views_started = pd.to_numeric(data.views_started)\n",
    "data.converted = pd.to_numeric(data.converted)\n",
    "data.views_finished = pd.to_numeric(data.views_finished)\n",
    "data.promo_used = pd.to_numeric(data.promo_used)\n",
    "\n",
    "###Create dummies & new descriptive features\n",
    "data[\"domestic\"] = data.country == \"United States\"\n",
    "data[\"completion_rate\"] = data.views_finished/data.views_started\n",
    "data[\"is_web\"] = data.platform == \"web\"\n",
    "data[\"week_ft\"] = data.free_trial_days == 7\n",
    "data['daily_view_time'] = data.time_watched / data.free_trial_days\n",
    "data[\"daily_view_log\"] = np.log10(data.daily_view_time + .0001)\n",
    "\n",
    "###Replace null values\n",
    "data.time_watched.replace(np.NaN, 0, inplace=True)\n",
    "data.views_started.replace(np.NaN, 0, inplace=True)\n",
    "data.views_finished.replace(np.NaN, 0, inplace=True)\n",
    "data.video_count.replace(np.NaN, 0, inplace=True)\n",
    "data.converted.replace(np.NaN, 0, inplace = True)\n",
    "data.completion_rate.replace(np.NaN, 0, inplace = True)\n",
    "data.completion_rate.replace(np.inf, 0, inplace = True)\n",
    "data.daily_view_time.replace(np.inf, 0, inplace = True)\n",
    "data.daily_view_time.replace(np.NaN, 0, inplace = True)\n",
    "data.daily_view_log.replace(np.NaN, 0, inplace = True)\n",
    "data.daily_view_log.replace(np.inf, 0, inplace = True)\n",
    "\n",
    "data.head()"
   ]
  },
  {
   "cell_type": "code",
   "execution_count": 6,
   "metadata": {
    "collapsed": true
   },
   "outputs": [],
   "source": [
    "###remove all outliers\n",
    "\n",
    "from scipy import stats\n",
    "\n",
    "int_cols = ['time_watched','views_started','views_finished','video_count']\n",
    "\n",
    "data = data[(np.abs(stats.zscore(data[int_cols])) < 3).all(axis=1)]\n",
    "\n",
    "data = data[data['completion_rate'] < 1]\n",
    "data = data[data['free_trial_days'] > 0]"
   ]
  },
  {
   "cell_type": "code",
   "execution_count": 7,
   "metadata": {
    "scrolled": true
   },
   "outputs": [
    {
     "data": {
      "text/html": [
       "<div>\n",
       "<style scoped>\n",
       "    .dataframe tbody tr th:only-of-type {\n",
       "        vertical-align: middle;\n",
       "    }\n",
       "\n",
       "    .dataframe tbody tr th {\n",
       "        vertical-align: top;\n",
       "    }\n",
       "\n",
       "    .dataframe thead th {\n",
       "        text-align: right;\n",
       "    }\n",
       "</style>\n",
       "<table border=\"1\" class=\"dataframe\">\n",
       "  <thead>\n",
       "    <tr style=\"text-align: right;\">\n",
       "      <th></th>\n",
       "      <th>user_id</th>\n",
       "      <th>ticket_id</th>\n",
       "      <th>free_trial_days</th>\n",
       "      <th>site_id</th>\n",
       "      <th>top_site</th>\n",
       "      <th>promo_used</th>\n",
       "      <th>converted</th>\n",
       "      <th>time_watched</th>\n",
       "      <th>views_started</th>\n",
       "      <th>views_finished</th>\n",
       "      <th>video_count</th>\n",
       "      <th>completion_rate</th>\n",
       "      <th>daily_view_time</th>\n",
       "      <th>daily_view_log</th>\n",
       "    </tr>\n",
       "  </thead>\n",
       "  <tbody>\n",
       "    <tr>\n",
       "      <th>count</th>\n",
       "      <td>1.065640e+05</td>\n",
       "      <td>1.065640e+05</td>\n",
       "      <td>106564.000000</td>\n",
       "      <td>106564.000000</td>\n",
       "      <td>106564.000000</td>\n",
       "      <td>106564.000000</td>\n",
       "      <td>106564.000000</td>\n",
       "      <td>106564.000000</td>\n",
       "      <td>106564.000000</td>\n",
       "      <td>106564.000000</td>\n",
       "      <td>106564.000000</td>\n",
       "      <td>106564.000000</td>\n",
       "      <td>106564.000000</td>\n",
       "      <td>106564.000000</td>\n",
       "    </tr>\n",
       "    <tr>\n",
       "      <th>mean</th>\n",
       "      <td>3.212299e+06</td>\n",
       "      <td>2.919918e+06</td>\n",
       "      <td>14.470093</td>\n",
       "      <td>24924.950396</td>\n",
       "      <td>0.682153</td>\n",
       "      <td>0.068710</td>\n",
       "      <td>0.646297</td>\n",
       "      <td>92.970575</td>\n",
       "      <td>11.881057</td>\n",
       "      <td>4.730369</td>\n",
       "      <td>7.686433</td>\n",
       "      <td>0.280174</td>\n",
       "      <td>11.222804</td>\n",
       "      <td>0.412772</td>\n",
       "    </tr>\n",
       "    <tr>\n",
       "      <th>std</th>\n",
       "      <td>4.723717e+05</td>\n",
       "      <td>3.805831e+05</td>\n",
       "      <td>11.681175</td>\n",
       "      <td>3822.714282</td>\n",
       "      <td>0.465642</td>\n",
       "      <td>0.252961</td>\n",
       "      <td>0.478121</td>\n",
       "      <td>138.219196</td>\n",
       "      <td>16.736822</td>\n",
       "      <td>7.691658</td>\n",
       "      <td>9.568351</td>\n",
       "      <td>0.276334</td>\n",
       "      <td>19.235377</td>\n",
       "      <td>1.072152</td>\n",
       "    </tr>\n",
       "    <tr>\n",
       "      <th>min</th>\n",
       "      <td>1.150000e+02</td>\n",
       "      <td>2.289482e+06</td>\n",
       "      <td>3.000000</td>\n",
       "      <td>69.000000</td>\n",
       "      <td>0.000000</td>\n",
       "      <td>0.000000</td>\n",
       "      <td>0.000000</td>\n",
       "      <td>0.000000</td>\n",
       "      <td>0.000000</td>\n",
       "      <td>0.000000</td>\n",
       "      <td>0.000000</td>\n",
       "      <td>0.000000</td>\n",
       "      <td>0.000000</td>\n",
       "      <td>-4.000000</td>\n",
       "    </tr>\n",
       "    <tr>\n",
       "      <th>25%</th>\n",
       "      <td>2.872903e+06</td>\n",
       "      <td>2.533106e+06</td>\n",
       "      <td>7.000000</td>\n",
       "      <td>22104.000000</td>\n",
       "      <td>0.000000</td>\n",
       "      <td>0.000000</td>\n",
       "      <td>0.000000</td>\n",
       "      <td>2.200000</td>\n",
       "      <td>2.000000</td>\n",
       "      <td>0.000000</td>\n",
       "      <td>1.000000</td>\n",
       "      <td>0.000000</td>\n",
       "      <td>0.176667</td>\n",
       "      <td>0.000000</td>\n",
       "    </tr>\n",
       "    <tr>\n",
       "      <th>50%</th>\n",
       "      <td>3.362512e+06</td>\n",
       "      <td>3.047205e+06</td>\n",
       "      <td>7.000000</td>\n",
       "      <td>24335.000000</td>\n",
       "      <td>1.000000</td>\n",
       "      <td>0.000000</td>\n",
       "      <td>1.000000</td>\n",
       "      <td>39.300000</td>\n",
       "      <td>6.000000</td>\n",
       "      <td>2.000000</td>\n",
       "      <td>4.000000</td>\n",
       "      <td>0.250000</td>\n",
       "      <td>3.500000</td>\n",
       "      <td>0.544080</td>\n",
       "    </tr>\n",
       "    <tr>\n",
       "      <th>75%</th>\n",
       "      <td>3.606211e+06</td>\n",
       "      <td>3.274778e+06</td>\n",
       "      <td>30.000000</td>\n",
       "      <td>28302.000000</td>\n",
       "      <td>1.000000</td>\n",
       "      <td>0.000000</td>\n",
       "      <td>1.000000</td>\n",
       "      <td>123.500000</td>\n",
       "      <td>15.000000</td>\n",
       "      <td>6.000000</td>\n",
       "      <td>10.000000</td>\n",
       "      <td>0.500000</td>\n",
       "      <td>13.366667</td>\n",
       "      <td>1.126026</td>\n",
       "    </tr>\n",
       "    <tr>\n",
       "      <th>max</th>\n",
       "      <td>3.714391e+06</td>\n",
       "      <td>3.391733e+06</td>\n",
       "      <td>31.000000</td>\n",
       "      <td>36858.000000</td>\n",
       "      <td>1.000000</td>\n",
       "      <td>1.000000</td>\n",
       "      <td>1.000000</td>\n",
       "      <td>922.700000</td>\n",
       "      <td>122.000000</td>\n",
       "      <td>59.000000</td>\n",
       "      <td>59.000000</td>\n",
       "      <td>0.982456</td>\n",
       "      <td>298.000000</td>\n",
       "      <td>2.474216</td>\n",
       "    </tr>\n",
       "  </tbody>\n",
       "</table>\n",
       "</div>"
      ],
      "text/plain": [
       "            user_id     ticket_id  free_trial_days        site_id  \\\n",
       "count  1.065640e+05  1.065640e+05    106564.000000  106564.000000   \n",
       "mean   3.212299e+06  2.919918e+06        14.470093   24924.950396   \n",
       "std    4.723717e+05  3.805831e+05        11.681175    3822.714282   \n",
       "min    1.150000e+02  2.289482e+06         3.000000      69.000000   \n",
       "25%    2.872903e+06  2.533106e+06         7.000000   22104.000000   \n",
       "50%    3.362512e+06  3.047205e+06         7.000000   24335.000000   \n",
       "75%    3.606211e+06  3.274778e+06        30.000000   28302.000000   \n",
       "max    3.714391e+06  3.391733e+06        31.000000   36858.000000   \n",
       "\n",
       "            top_site     promo_used      converted   time_watched  \\\n",
       "count  106564.000000  106564.000000  106564.000000  106564.000000   \n",
       "mean        0.682153       0.068710       0.646297      92.970575   \n",
       "std         0.465642       0.252961       0.478121     138.219196   \n",
       "min         0.000000       0.000000       0.000000       0.000000   \n",
       "25%         0.000000       0.000000       0.000000       2.200000   \n",
       "50%         1.000000       0.000000       1.000000      39.300000   \n",
       "75%         1.000000       0.000000       1.000000     123.500000   \n",
       "max         1.000000       1.000000       1.000000     922.700000   \n",
       "\n",
       "       views_started  views_finished    video_count  completion_rate  \\\n",
       "count  106564.000000   106564.000000  106564.000000    106564.000000   \n",
       "mean       11.881057        4.730369       7.686433         0.280174   \n",
       "std        16.736822        7.691658       9.568351         0.276334   \n",
       "min         0.000000        0.000000       0.000000         0.000000   \n",
       "25%         2.000000        0.000000       1.000000         0.000000   \n",
       "50%         6.000000        2.000000       4.000000         0.250000   \n",
       "75%        15.000000        6.000000      10.000000         0.500000   \n",
       "max       122.000000       59.000000      59.000000         0.982456   \n",
       "\n",
       "       daily_view_time  daily_view_log  \n",
       "count    106564.000000   106564.000000  \n",
       "mean         11.222804        0.412772  \n",
       "std          19.235377        1.072152  \n",
       "min           0.000000       -4.000000  \n",
       "25%           0.176667        0.000000  \n",
       "50%           3.500000        0.544080  \n",
       "75%          13.366667        1.126026  \n",
       "max         298.000000        2.474216  "
      ]
     },
     "execution_count": 7,
     "metadata": {},
     "output_type": "execute_result"
    }
   ],
   "source": [
    "data.describe()"
   ]
  },
  {
   "cell_type": "code",
   "execution_count": 8,
   "metadata": {},
   "outputs": [
    {
     "data": {
      "image/png": "[encoded data removed]",
      "text/plain": [
       "<matplotlib.figure.Figure at 0x10d249990>"
      ]
     },
     "metadata": {},
     "output_type": "display_data"
    }
   ],
   "source": [
    "names = ['domestic','platform','free_trial_days','time_watched','video_count','views_started','is_web','completion_rate','week_ft','daily_view_time']\n",
    "names2 = ['do','pl','ftd','tw','vc','vs','web','cr','week','dvt']\n",
    "data1 = data[['domestic','platform','free_trial_days','time_watched','video_count','views_started','is_web','completion_rate','week_ft','daily_view_time']].copy()\n",
    "correlations = data1.corr()\n",
    "# plot correlation matrix\n",
    "fig = plt.figure()\n",
    "ax = fig.add_subplot(111)\n",
    "cax = ax.matshow(correlations, vmin=-1, vmax=1)\n",
    "fig.colorbar(cax)\n",
    "ticks = np.arange(0,9,1)\n",
    "ax.set_xticks(ticks)\n",
    "ax.set_yticks(ticks)\n",
    "ax.set_xticklabels(names2)\n",
    "ax.set_yticklabels(names)\n",
    "plt.show()"
   ]
  },
  {
   "cell_type": "code",
   "execution_count": 13,
   "metadata": {},
   "outputs": [
    {
     "data": {
      "text/plain": [
       "<matplotlib.axes._subplots.AxesSubplot at 0x1a0e8cbc10>"
      ]
     },
     "execution_count": 13,
     "metadata": {},
     "output_type": "execute_result"
    },
    {
     "data": {
      "image/png": "[encoded data removed]",
      "text/plain": [
       "<matplotlib.figure.Figure at 0x1a0e751350>"
      ]
     },
     "metadata": {},
     "output_type": "display_data"
    }
   ],
   "source": [
    "sns.distplot(data.daily_view_time)"
   ]
  },
  {
   "cell_type": "code",
   "execution_count": 11,
   "metadata": {},
   "outputs": [],
   "source": [
    "data[\"completion_log\"] = np.log10(data.completion_rate + .0001)\n",
    "data[\"views_started_log\"] = np.log10(data.views_started + .0001)\n",
    "data[\"views_finished_log\"] = np.log10(data.views_finished + .0001)\n",
    "data[\"video_count_log\"] = np.log10(data.video_count + .0001)"
   ]
  },
  {
   "cell_type": "code",
   "execution_count": 14,
   "metadata": {},
   "outputs": [
    {
     "data": {
      "text/plain": [
       "<matplotlib.axes._subplots.AxesSubplot at 0x1a0f08c250>"
      ]
     },
     "execution_count": 14,
     "metadata": {},
     "output_type": "execute_result"
    },
    {
     "data": {
      "image/png": "[encoded data removed]",
      "text/plain": [
       "<matplotlib.figure.Figure at 0x1a0f4b28d0>"
      ]
     },
     "metadata": {},
     "output_type": "display_data"
    }
   ],
   "source": [
    "sns.distplot(data.daily_view_log)"
   ]
  },
  {
   "cell_type": "markdown",
   "metadata": {},
   "source": [
    "### Logistic Regression"
   ]
  },
  {
   "cell_type": "code",
   "execution_count": 15,
   "metadata": {
    "collapsed": true
   },
   "outputs": [],
   "source": [
    "features = ['domestic','promo_used','completion_log','top_site','week_ft','daily_view_log','views_started_log','views_finished_log','video_count_log']\n",
    "X, y = data[features], data.converted"
   ]
  },
  {
   "cell_type": "code",
   "execution_count": 16,
   "metadata": {},
   "outputs": [
    {
     "data": {
      "text/plain": [
       "0.67447692050748442"
      ]
     },
     "execution_count": 16,
     "metadata": {},
     "output_type": "execute_result"
    }
   ],
   "source": [
    "model = LogisticRegression(fit_intercept = True)\n",
    "cross_val_score(model, X, y, cv=10).mean()"
   ]
  },
  {
   "cell_type": "code",
   "execution_count": 17,
   "metadata": {},
   "outputs": [
    {
     "name": "stdout",
     "output_type": "stream",
     "text": [
      "[1 1 1 1 1]\n",
      "[[ 0.4098892   0.5901108 ]\n",
      " [ 0.36671008  0.63328992]\n",
      " [ 0.23668362  0.76331638]\n",
      " [ 0.33162334  0.66837666]\n",
      " [ 0.39581224  0.60418776]]\n"
     ]
    }
   ],
   "source": [
    "model.fit(X, y)\n",
    "print model.predict(X)[:5]\n",
    "print model.predict_proba(X)[:5]"
   ]
  },
  {
   "cell_type": "code",
   "execution_count": 18,
   "metadata": {},
   "outputs": [
    {
     "data": {
      "text/plain": [
       "array([ 0.5901108 ,  0.63328992,  0.76331638,  0.66837666,  0.60418776,\n",
       "        0.4307927 ,  0.60354262,  0.74260028,  0.7530546 ,  0.77651059])"
      ]
     },
     "execution_count": 18,
     "metadata": {},
     "output_type": "execute_result"
    }
   ],
   "source": [
    "y_pred = np.array(zip(*model.predict_proba(X))[1])\n",
    "y_pred[:10]"
   ]
  },
  {
   "cell_type": "code",
   "execution_count": 19,
   "metadata": {},
   "outputs": [
    {
     "name": "stdout",
     "output_type": "stream",
     "text": [
      "accuracy  : 0.6745\n",
      "precision : 0.6957\n",
      "recall    : 0.9025\n",
      "f1        : 0.7814\n",
      "roc_auc   : 0.6431\n"
     ]
    }
   ],
   "source": [
    "for metric in [\"accuracy\", \"precision\", \"recall\", \"f1\", \"roc_auc\"]:\n",
    "    print \"%-10s: %.4f\" % (metric, cross_val_score(model, X, y, cv=10, scoring=metric).mean())"
   ]
  },
  {
   "cell_type": "markdown",
   "metadata": {},
   "source": [
    "A cross validation score of .67 isn't terrible, but the high recall makes me question whether my model is overfitting (roughly 2/3 of my dataset represents converted users). I'd continue to take a look at Random Forest & Boosting Forest models."
   ]
  },
  {
   "cell_type": "markdown",
   "metadata": {},
   "source": [
    "### Random Forest"
   ]
  },
  {
   "cell_type": "code",
   "execution_count": 20,
   "metadata": {},
   "outputs": [
    {
     "data": {
      "text/plain": [
       "0.58994497000492863"
      ]
     },
     "execution_count": 20,
     "metadata": {},
     "output_type": "execute_result"
    }
   ],
   "source": [
    "model = RandomForestClassifier(n_estimators=500, n_jobs=-1, max_depth = 3)\n",
    "cross_val_score(model, X, data.converted).mean()"
   ]
  },
  {
   "cell_type": "code",
   "execution_count": 21,
   "metadata": {},
   "outputs": [
    {
     "name": "stdout",
     "output_type": "stream",
     "text": [
      "accuracy  : 0.6788\n",
      "precision : 0.6925\n",
      "recall    : 0.9192\n",
      "f1        : 0.7866\n",
      "roc_auc   : 0.6374\n"
     ]
    }
   ],
   "source": [
    "for metric in [\"accuracy\", \"precision\", \"recall\", \"f1\", \"roc_auc\"]:\n",
    "    print \"%-10s: %.4f\" % (metric, cross_val_score(model, X, y, cv=10, scoring=metric).mean())"
   ]
  },
  {
   "cell_type": "markdown",
   "metadata": {},
   "source": [
    "### Boosting Forest"
   ]
  },
  {
   "cell_type": "code",
   "execution_count": 22,
   "metadata": {
    "collapsed": true
   },
   "outputs": [],
   "source": [
    "features = ['domestic','promo_used','completion_log','top_site','week_ft','daily_view_log','views_started_log','views_finished_log','video_count_log']\n",
    "X, y = data[features], data.converted"
   ]
  },
  {
   "cell_type": "code",
   "execution_count": 23,
   "metadata": {},
   "outputs": [
    {
     "name": "stdout",
     "output_type": "stream",
     "text": [
      "CPU times: user 1min 51s, sys: 5.22 s, total: 1min 56s\n",
      "Wall time: 2min\n"
     ]
    }
   ],
   "source": [
    "%%time\n",
    "scores = []\n",
    "for n in [1, 2, 3, 5, 10, 20, 50, 100]:\n",
    "    for criterion in ['gini', 'entropy']:\n",
    "        start_time = time.time()\n",
    "        model = RandomForestClassifier(n_estimators=n, criterion=criterion)\n",
    "        accuracy = cross_val_score(model, X, data.converted).mean()\n",
    "        duration = time.time() - start_time\n",
    "        scores.append(dict(n_estimators=n, criterion=criterion, accuracy=accuracy, duration=duration))\n",
    "scores = pd.DataFrame(scores)"
   ]
  },
  {
   "cell_type": "code",
   "execution_count": 24,
   "metadata": {},
   "outputs": [
    {
     "data": {
      "image/png": "[encoded data removed]",
      "text/plain": [
       "<matplotlib.figure.Figure at 0x1a11fe8990>"
      ]
     },
     "metadata": {},
     "output_type": "display_data"
    }
   ],
   "source": [
    "fig, axes = plt.subplots(1, 2, figsize=(12, 4))\n",
    "f = scores.groupby(['n_estimators', 'criterion']).accuracy.mean().unstack() \\\n",
    "    .plot(ylim=(.5,1), title=\"Accuracy of Random Forests by number of trees\", ax=axes[0])\n",
    "f = scores.groupby(['n_estimators', 'criterion']).duration.mean().unstack() \\\n",
    "    .plot(title=\"Duration (incl. cross-validation) by number of trees\", ax=axes[1]) "
   ]
  },
  {
   "cell_type": "code",
   "execution_count": 25,
   "metadata": {},
   "outputs": [
    {
     "data": {
      "text/plain": [
       "0.58690457661618545"
      ]
     },
     "execution_count": 25,
     "metadata": {},
     "output_type": "execute_result"
    }
   ],
   "source": [
    "####via GradeintBoosting\n",
    "model = GradientBoostingClassifier(n_estimators=10,max_depth = 4)\n",
    "cross_val_score(model, X, data.converted).mean()"
   ]
  },
  {
   "cell_type": "code",
   "execution_count": 26,
   "metadata": {},
   "outputs": [
    {
     "data": {
      "text/plain": [
       "0.56869052662256481"
      ]
     },
     "execution_count": 26,
     "metadata": {},
     "output_type": "execute_result"
    }
   ],
   "source": [
    "####via AdaBoost\n",
    "model = AdaBoostClassifier(n_estimators=10)\n",
    "cross_val_score(model, X, data.converted).mean()"
   ]
  },
  {
   "cell_type": "markdown",
   "metadata": {},
   "source": [
    "My Random Forest & Boosting Forest models performed even worse! However, I'd like to take a stab at optimizing my parameters to see if I can improve performance. For this, I will use sklearn's GridSearch function, which will allow me identify the optimal ranges for each parameter."
   ]
  },
  {
   "cell_type": "markdown",
   "metadata": {},
   "source": [
    "### Random Forest Parameter Optimization"
   ]
  },
  {
   "cell_type": "code",
   "execution_count": 35,
   "metadata": {},
   "outputs": [],
   "source": [
    "model = RandomForestClassifier(random_state = 84)\n",
    "features = ['domestic','promo_used','completion_log','top_site','week_ft','daily_view_log','views_started_log','views_finished_log','video_count_log']"
   ]
  },
  {
   "cell_type": "code",
   "execution_count": 36,
   "metadata": {},
   "outputs": [],
   "source": [
    "from sklearn.grid_search import GridSearchCV\n",
    "\n",
    "def evaluate_param(parameter, num_range, index):\n",
    "    grid_search = GridSearchCV(model, param_grid = {parameter: num_range})\n",
    "    grid_search.fit(X, y)\n",
    "    \n",
    "    df = {}\n",
    "    for i, score in enumerate(grid_search.grid_scores_):\n",
    "        df[score[0][parameter]] = score[1]\n",
    "       \n",
    "    \n",
    "    df = pd.DataFrame.from_dict(df, orient='index')\n",
    "    df.reset_index(level=0, inplace=True)\n",
    "    df = df.sort_values(by='index')\n",
    " \n",
    "    plt.subplot(3,2,index)\n",
    "    plot = plt.plot(df['index'], df[0])\n",
    "    plt.title(parameter)\n",
    "    return plot, df"
   ]
  },
  {
   "cell_type": "code",
   "execution_count": 37,
   "metadata": {
    "collapsed": true
   },
   "outputs": [],
   "source": [
    "param_grid = {\"n_estimators\": np.arange(2, 300, 2),\n",
    "              \"max_depth\": np.arange(1, 28, 1),\n",
    "              \"min_samples_leaf\": np.arange(1,60,1),\n",
    "              \"max_leaf_nodes\": np.arange(2,60,1),\n",
    "              \"min_weight_fraction_leaf\": np.arange(0.1,0.4, 0.1)}"
   ]
  },
  {
   "cell_type": "code",
   "execution_count": 38,
   "metadata": {},
   "outputs": [
    {
     "data": {
      "image/png": "[encoded data removed]",
      "text/plain": [
       "<matplotlib.figure.Figure at 0x1a10746510>"
      ]
     },
     "metadata": {},
     "output_type": "display_data"
    }
   ],
   "source": [
    "index = 1\n",
    "plt.figure(figsize=(16,12))\n",
    "for parameter, param_range in dict.items(param_grid):   \n",
    "    evaluate_param(parameter, param_range, index)\n",
    "    index += 1"
   ]
  },
  {
   "cell_type": "markdown",
   "metadata": {},
   "source": [
    "Now that I have the above graphs, I can make more educated guesses on my parameters. I will now iterate through a few values for each parameter and see which combination performs the best."
   ]
  },
  {
   "cell_type": "code",
   "execution_count": 39,
   "metadata": {
    "collapsed": true
   },
   "outputs": [],
   "source": [
    "from operator import itemgetter\n",
    "\n",
    "def report(grid_scores, n_top):\n",
    "    top_scores = sorted(grid_scores, key=itemgetter(1), reverse=True)[:n_top]\n",
    "    for i, score in enumerate(top_scores):\n",
    "        print(\"Model with rank: {0}\".format(i + 1))\n",
    "        print(\"Mean validation score: {0:.4f})\".format(\n",
    "              score.mean_validation_score,\n",
    "              np.std(score.cv_validation_scores)))\n",
    "        print(\"Parameters: {0}\".format(score.parameters))\n",
    "        print(\"\")"
   ]
  },
  {
   "cell_type": "code",
   "execution_count": 44,
   "metadata": {
    "collapsed": true
   },
   "outputs": [],
   "source": [
    "# parameters for GridSearchCV\n",
    "param_grid2 = {\"n_estimators\": [50,60],\n",
    "              \"max_depth\": [2, 3, 4],\n",
    "              \"min_samples_leaf\": [50,52],\n",
    "              \"max_leaf_nodes\": [None],\n",
    "              \"min_weight_fraction_leaf\": [0.1]}"
   ]
  },
  {
   "cell_type": "code",
   "execution_count": 45,
   "metadata": {},
   "outputs": [
    {
     "name": "stdout",
     "output_type": "stream",
     "text": [
      "Model with rank: 1\n",
      "Mean validation score: 0.6761)\n",
      "Parameters: {'n_estimators': 60, 'max_leaf_nodes': None, 'min_weight_fraction_leaf': 0.1, 'max_depth': 3, 'min_samples_leaf': 50}\n",
      "\n",
      "Model with rank: 2\n",
      "Mean validation score: 0.6761)\n",
      "Parameters: {'n_estimators': 60, 'max_leaf_nodes': None, 'min_weight_fraction_leaf': 0.1, 'max_depth': 3, 'min_samples_leaf': 52}\n",
      "\n",
      "Model with rank: 3\n",
      "Mean validation score: 0.6760)\n",
      "Parameters: {'n_estimators': 60, 'max_leaf_nodes': None, 'min_weight_fraction_leaf': 0.1, 'max_depth': 4, 'min_samples_leaf': 50}\n",
      "\n",
      "Model with rank: 4\n",
      "Mean validation score: 0.6760)\n",
      "Parameters: {'n_estimators': 60, 'max_leaf_nodes': None, 'min_weight_fraction_leaf': 0.1, 'max_depth': 4, 'min_samples_leaf': 52}\n",
      "\n"
     ]
    }
   ],
   "source": [
    "grid_search = GridSearchCV(model, param_grid=param_grid2)\n",
    "grid_search.fit(X, y)\n",
    "\n",
    "report(grid_search.grid_scores_, 4)"
   ]
  },
  {
   "cell_type": "code",
   "execution_count": 49,
   "metadata": {
    "collapsed": true
   },
   "outputs": [],
   "source": [
    "# parameters for GridSearchCV\n",
    "param_grid2 = {\"n_estimators\": [50,55],\n",
    "              \"max_depth\": [2],\n",
    "              \"min_samples_leaf\": [50,52],\n",
    "              \"max_leaf_nodes\": [2],\n",
    "              \"min_weight_fraction_leaf\": [0.1]}"
   ]
  },
  {
   "cell_type": "code",
   "execution_count": 50,
   "metadata": {},
   "outputs": [
    {
     "name": "stdout",
     "output_type": "stream",
     "text": [
      "Model with rank: 1\n",
      "Mean validation score: 0.6463)\n",
      "Parameters: {'n_estimators': 50, 'max_leaf_nodes': 2, 'min_weight_fraction_leaf': 0.1, 'max_depth': 2, 'min_samples_leaf': 50}\n",
      "\n",
      "Model with rank: 2\n",
      "Mean validation score: 0.6463)\n",
      "Parameters: {'n_estimators': 55, 'max_leaf_nodes': 2, 'min_weight_fraction_leaf': 0.1, 'max_depth': 2, 'min_samples_leaf': 50}\n",
      "\n",
      "Model with rank: 3\n",
      "Mean validation score: 0.6463)\n",
      "Parameters: {'n_estimators': 50, 'max_leaf_nodes': 2, 'min_weight_fraction_leaf': 0.1, 'max_depth': 2, 'min_samples_leaf': 52}\n",
      "\n",
      "Model with rank: 4\n",
      "Mean validation score: 0.6463)\n",
      "Parameters: {'n_estimators': 55, 'max_leaf_nodes': 2, 'min_weight_fraction_leaf': 0.1, 'max_depth': 2, 'min_samples_leaf': 52}\n",
      "\n"
     ]
    }
   ],
   "source": [
    "grid_search = GridSearchCV(model, param_grid=param_grid2)\n",
    "grid_search.fit(X, y)\n",
    "\n",
    "report(grid_search.grid_scores_, 4)"
   ]
  },
  {
   "cell_type": "code",
   "execution_count": 55,
   "metadata": {
    "collapsed": true
   },
   "outputs": [],
   "source": [
    "# parameters for GridSearchCV\n",
    "param_grid2 = {\"n_estimators\": [90,100],\n",
    "              \"max_depth\": [2],\n",
    "              \"min_samples_leaf\": [50,52],\n",
    "              \"max_leaf_nodes\": [2],\n",
    "              \"min_weight_fraction_leaf\": [0.1]}"
   ]
  },
  {
   "cell_type": "code",
   "execution_count": 56,
   "metadata": {},
   "outputs": [
    {
     "name": "stdout",
     "output_type": "stream",
     "text": [
      "Model with rank: 1\n",
      "Mean validation score: 0.6463)\n",
      "Parameters: {'n_estimators': 90, 'max_leaf_nodes': 2, 'min_weight_fraction_leaf': 0.1, 'max_depth': 2, 'min_samples_leaf': 50}\n",
      "\n",
      "Model with rank: 2\n",
      "Mean validation score: 0.6463)\n",
      "Parameters: {'n_estimators': 100, 'max_leaf_nodes': 2, 'min_weight_fraction_leaf': 0.1, 'max_depth': 2, 'min_samples_leaf': 50}\n",
      "\n",
      "Model with rank: 3\n",
      "Mean validation score: 0.6463)\n",
      "Parameters: {'n_estimators': 90, 'max_leaf_nodes': 2, 'min_weight_fraction_leaf': 0.1, 'max_depth': 2, 'min_samples_leaf': 52}\n",
      "\n",
      "Model with rank: 4\n",
      "Mean validation score: 0.6463)\n",
      "Parameters: {'n_estimators': 100, 'max_leaf_nodes': 2, 'min_weight_fraction_leaf': 0.1, 'max_depth': 2, 'min_samples_leaf': 52}\n",
      "\n"
     ]
    }
   ],
   "source": [
    "grid_search = GridSearchCV(model, param_grid=param_grid2)\n",
    "grid_search.fit(X, y)\n",
    "\n",
    "report(grid_search.grid_scores_, 4)"
   ]
  },
  {
   "cell_type": "markdown",
   "metadata": {},
   "source": [
    "After cycling through a few parameter combinations, the below parameters seem to perform just slightly higher than my logistic regression. Since I felt overfitting was an issue with my logisitc regression as well, I'd like to stick with this random forest to reduce that risk."
   ]
  },
  {
   "cell_type": "code",
   "execution_count": 53,
   "metadata": {},
   "outputs": [
    {
     "data": {
      "text/plain": [
       "0.66135857403087794"
      ]
     },
     "execution_count": 53,
     "metadata": {},
     "output_type": "execute_result"
    }
   ],
   "source": [
    "model = RandomForestClassifier(n_estimators = 60, max_leaf_nodes = None, min_weight_fraction_leaf = 0.1, max_depth = 3, min_samples_leaf = 50)\n",
    "cross_val_score(model, X, data.converted).mean()"
   ]
  },
  {
   "cell_type": "code",
   "execution_count": 54,
   "metadata": {},
   "outputs": [
    {
     "name": "stdout",
     "output_type": "stream",
     "text": [
      "accuracy  : 0.6749\n",
      "precision : 0.6939\n",
      "recall    : 0.9170\n",
      "f1        : 0.7864\n",
      "roc_auc   : 0.6334\n"
     ]
    }
   ],
   "source": [
    "for metric in [\"accuracy\", \"precision\", \"recall\", \"f1\", \"roc_auc\"]:\n",
    "    print \"%-10s: %.4f\" % (metric, cross_val_score(model, X, y, cv=10, scoring=metric).mean())"
   ]
  },
  {
   "cell_type": "code",
   "execution_count": null,
   "metadata": {
    "collapsed": true
   },
   "outputs": [],
   "source": []
  }
 ],
 "metadata": {
  "kernelspec": {
   "display_name": "Python 2",
   "language": "python",
   "name": "python2"
  },
  "language_info": {
   "codemirror_mode": {
    "name": "ipython",
    "version": 2
   },
   "file_extension": ".py",
   "mimetype": "text/x-python",
   "name": "python",
   "nbconvert_exporter": "python",
   "pygments_lexer": "ipython2",
   "version": "2.7.14"
  }
 },
 "nbformat": 4,
 "nbformat_minor": 2
}
