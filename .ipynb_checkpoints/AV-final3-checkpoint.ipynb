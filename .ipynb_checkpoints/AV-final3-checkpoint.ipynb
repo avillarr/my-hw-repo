{
 "cells": [
  {
   "cell_type": "markdown",
   "metadata": {},
   "source": [
    "### Final Project: Part 3"
   ]
  },
  {
   "cell_type": "code",
   "execution_count": 329,
   "metadata": {
    "collapsed": true
   },
   "outputs": [],
   "source": [
    "import pandas as pd\n",
    "import numpy as np\n",
    "import pdb\n",
    "from matplotlib import pyplot as plt\n",
    "import seaborn as sns\n",
    "%matplotlib inline"
   ]
  },
  {
   "cell_type": "markdown",
   "metadata": {},
   "source": [
    "### Data Importing & Cleaning"
   ]
  },
  {
   "cell_type": "code",
   "execution_count": 330,
   "metadata": {},
   "outputs": [],
   "source": [
    "free_trials = pd.read_csv('/Users/villarreala/Desktop/free_trials.csv', low_memory=False)\n",
    "video_events = pd.read_csv('/Users/villarreala/Desktop/video_events.csv', low_memory=False)"
   ]
  },
  {
   "cell_type": "code",
   "execution_count": 331,
   "metadata": {
    "collapsed": true
   },
   "outputs": [],
   "source": [
    "free_trials.user_id = free_trials.user_id.astype(int)"
   ]
  },
  {
   "cell_type": "code",
   "execution_count": 332,
   "metadata": {},
   "outputs": [
    {
     "data": {
      "text/html": [
       "<div>\n",
       "<style scoped>\n",
       "    .dataframe tbody tr th:only-of-type {\n",
       "        vertical-align: middle;\n",
       "    }\n",
       "\n",
       "    .dataframe tbody tr th {\n",
       "        vertical-align: top;\n",
       "    }\n",
       "\n",
       "    .dataframe thead th {\n",
       "        text-align: right;\n",
       "    }\n",
       "</style>\n",
       "<table border=\"1\" class=\"dataframe\">\n",
       "  <thead>\n",
       "    <tr style=\"text-align: right;\">\n",
       "      <th></th>\n",
       "      <th>user_id</th>\n",
       "      <th>user_created</th>\n",
       "      <th>city</th>\n",
       "      <th>state</th>\n",
       "      <th>country</th>\n",
       "      <th>country_code</th>\n",
       "      <th>ticket_id</th>\n",
       "      <th>ticket_created</th>\n",
       "      <th>platform</th>\n",
       "      <th>free_trial_days</th>\n",
       "      <th>site_id</th>\n",
       "      <th>promo_used</th>\n",
       "      <th>converted</th>\n",
       "      <th>time_watched</th>\n",
       "      <th>views_started</th>\n",
       "      <th>views_finished</th>\n",
       "      <th>video_count</th>\n",
       "    </tr>\n",
       "  </thead>\n",
       "  <tbody>\n",
       "    <tr>\n",
       "      <th>0</th>\n",
       "      <td>3519638</td>\n",
       "      <td>10/24/17 18:00</td>\n",
       "      <td>Quaregnon</td>\n",
       "      <td>3</td>\n",
       "      <td>Belgium</td>\n",
       "      <td>be</td>\n",
       "      <td>3183208</td>\n",
       "      <td>10/24/17 18:00</td>\n",
       "      <td>web</td>\n",
       "      <td>30</td>\n",
       "      <td>69</td>\n",
       "      <td>0</td>\n",
       "      <td>0</td>\n",
       "      <td>97.2</td>\n",
       "      <td>4.0</td>\n",
       "      <td>3.0</td>\n",
       "      <td>4.0</td>\n",
       "    </tr>\n",
       "    <tr>\n",
       "      <th>1</th>\n",
       "      <td>3546292</td>\n",
       "      <td>10/30/17 1:07</td>\n",
       "      <td>Sandy Creek</td>\n",
       "      <td>NY</td>\n",
       "      <td>United States</td>\n",
       "      <td>us</td>\n",
       "      <td>3209339</td>\n",
       "      <td>10/30/17 1:07</td>\n",
       "      <td>web</td>\n",
       "      <td>30</td>\n",
       "      <td>69</td>\n",
       "      <td>0</td>\n",
       "      <td>0</td>\n",
       "      <td>NaN</td>\n",
       "      <td>NaN</td>\n",
       "      <td>NaN</td>\n",
       "      <td>NaN</td>\n",
       "    </tr>\n",
       "    <tr>\n",
       "      <th>2</th>\n",
       "      <td>3550766</td>\n",
       "      <td>10/31/17 22:44</td>\n",
       "      <td>Brasilia</td>\n",
       "      <td>7</td>\n",
       "      <td>Brazil</td>\n",
       "      <td>br</td>\n",
       "      <td>3213670</td>\n",
       "      <td>10/31/17 22:44</td>\n",
       "      <td>web</td>\n",
       "      <td>30</td>\n",
       "      <td>69</td>\n",
       "      <td>0</td>\n",
       "      <td>0</td>\n",
       "      <td>0.0</td>\n",
       "      <td>1.0</td>\n",
       "      <td>0.0</td>\n",
       "      <td>1.0</td>\n",
       "    </tr>\n",
       "    <tr>\n",
       "      <th>3</th>\n",
       "      <td>3600295</td>\n",
       "      <td>11/18/17 22:39</td>\n",
       "      <td>Brookline</td>\n",
       "      <td>MA</td>\n",
       "      <td>United States</td>\n",
       "      <td>us</td>\n",
       "      <td>3262844</td>\n",
       "      <td>11/18/17 22:39</td>\n",
       "      <td>web</td>\n",
       "      <td>30</td>\n",
       "      <td>69</td>\n",
       "      <td>0</td>\n",
       "      <td>0</td>\n",
       "      <td>118.5</td>\n",
       "      <td>6.0</td>\n",
       "      <td>4.0</td>\n",
       "      <td>5.0</td>\n",
       "    </tr>\n",
       "    <tr>\n",
       "      <th>4</th>\n",
       "      <td>3604195</td>\n",
       "      <td>11/20/17 14:15</td>\n",
       "      <td>Rolvs����y</td>\n",
       "      <td>20</td>\n",
       "      <td>Norway</td>\n",
       "      <td>no</td>\n",
       "      <td>3266897</td>\n",
       "      <td>11/20/17 14:15</td>\n",
       "      <td>web</td>\n",
       "      <td>30</td>\n",
       "      <td>69</td>\n",
       "      <td>0</td>\n",
       "      <td>0</td>\n",
       "      <td>91.7</td>\n",
       "      <td>3.0</td>\n",
       "      <td>1.0</td>\n",
       "      <td>3.0</td>\n",
       "    </tr>\n",
       "  </tbody>\n",
       "</table>\n",
       "</div>"
      ],
      "text/plain": [
       "   user_id    user_created         city state        country country_code  \\\n",
       "0  3519638  10/24/17 18:00    Quaregnon     3        Belgium           be   \n",
       "1  3546292   10/30/17 1:07  Sandy Creek    NY  United States           us   \n",
       "2  3550766  10/31/17 22:44     Brasilia     7         Brazil           br   \n",
       "3  3600295  11/18/17 22:39    Brookline    MA  United States           us   \n",
       "4  3604195  11/20/17 14:15   Rolvs����y    20         Norway           no   \n",
       "\n",
       "   ticket_id  ticket_created platform  free_trial_days  site_id  promo_used  \\\n",
       "0    3183208  10/24/17 18:00      web               30       69           0   \n",
       "1    3209339   10/30/17 1:07      web               30       69           0   \n",
       "2    3213670  10/31/17 22:44      web               30       69           0   \n",
       "3    3262844  11/18/17 22:39      web               30       69           0   \n",
       "4    3266897  11/20/17 14:15      web               30       69           0   \n",
       "\n",
       "   converted  time_watched  views_started  views_finished  video_count  \n",
       "0          0          97.2            4.0             3.0          4.0  \n",
       "1          0           NaN            NaN             NaN          NaN  \n",
       "2          0           0.0            1.0             0.0          1.0  \n",
       "3          0         118.5            6.0             4.0          5.0  \n",
       "4          0          91.7            3.0             1.0          3.0  "
      ]
     },
     "execution_count": 332,
     "metadata": {},
     "output_type": "execute_result"
    }
   ],
   "source": [
    "data = free_trials.merge(video_events,how='left',on='user_id')\n",
    "data.head()"
   ]
  },
  {
   "cell_type": "markdown",
   "metadata": {},
   "source": [
    "I am using user and video analytics data for users who participated in a free trial in 2017. I decided to merge the two tables via a left join to account for users who did not watch any content during their free trial. I will replace these NaN values with zeros. All view times are in minutes. Since users participate in various lengths of free trials, comparing nominal video analytics data would be ineffective. For this project, I will create a completion_rate (views_finished/ views_started) feature and daily_view_time (time_watched/free_trial_days) feature for better analysis and comparison across all free trials."
   ]
  },
  {
   "cell_type": "code",
   "execution_count": 333,
   "metadata": {},
   "outputs": [
    {
     "data": {
      "text/html": [
       "<div>\n",
       "<style scoped>\n",
       "    .dataframe tbody tr th:only-of-type {\n",
       "        vertical-align: middle;\n",
       "    }\n",
       "\n",
       "    .dataframe tbody tr th {\n",
       "        vertical-align: top;\n",
       "    }\n",
       "\n",
       "    .dataframe thead th {\n",
       "        text-align: right;\n",
       "    }\n",
       "</style>\n",
       "<table border=\"1\" class=\"dataframe\">\n",
       "  <thead>\n",
       "    <tr style=\"text-align: right;\">\n",
       "      <th></th>\n",
       "      <th>user_id</th>\n",
       "      <th>ticket_id</th>\n",
       "      <th>free_trial_days</th>\n",
       "      <th>site_id</th>\n",
       "      <th>promo_used</th>\n",
       "      <th>converted</th>\n",
       "      <th>time_watched</th>\n",
       "      <th>views_started</th>\n",
       "      <th>views_finished</th>\n",
       "      <th>video_count</th>\n",
       "      <th>completion_rate</th>\n",
       "      <th>daily_view_time</th>\n",
       "    </tr>\n",
       "  </thead>\n",
       "  <tbody>\n",
       "    <tr>\n",
       "      <th>count</th>\n",
       "      <td>1.756210e+05</td>\n",
       "      <td>1.756210e+05</td>\n",
       "      <td>175621.000000</td>\n",
       "      <td>175621.000000</td>\n",
       "      <td>175621.000000</td>\n",
       "      <td>175621.000000</td>\n",
       "      <td>175621.000000</td>\n",
       "      <td>175621.000000</td>\n",
       "      <td>175621.000000</td>\n",
       "      <td>175621.000000</td>\n",
       "      <td>175621.000000</td>\n",
       "      <td>175621.000000</td>\n",
       "    </tr>\n",
       "    <tr>\n",
       "      <th>mean</th>\n",
       "      <td>3.134217e+06</td>\n",
       "      <td>2.866713e+06</td>\n",
       "      <td>15.318544</td>\n",
       "      <td>21308.973728</td>\n",
       "      <td>0.072725</td>\n",
       "      <td>0.663605</td>\n",
       "      <td>205.461074</td>\n",
       "      <td>17.823939</td>\n",
       "      <td>8.101554</td>\n",
       "      <td>10.649905</td>\n",
       "      <td>0.383329</td>\n",
       "      <td>15.777937</td>\n",
       "    </tr>\n",
       "    <tr>\n",
       "      <th>std</th>\n",
       "      <td>5.233589e+05</td>\n",
       "      <td>3.859204e+05</td>\n",
       "      <td>11.489155</td>\n",
       "      <td>6423.451119</td>\n",
       "      <td>0.259685</td>\n",
       "      <td>0.472477</td>\n",
       "      <td>565.275711</td>\n",
       "      <td>36.750675</td>\n",
       "      <td>21.136853</td>\n",
       "      <td>18.010555</td>\n",
       "      <td>0.829323</td>\n",
       "      <td>32.099974</td>\n",
       "    </tr>\n",
       "    <tr>\n",
       "      <th>min</th>\n",
       "      <td>2.000000e+00</td>\n",
       "      <td>2.289482e+06</td>\n",
       "      <td>0.000000</td>\n",
       "      <td>69.000000</td>\n",
       "      <td>0.000000</td>\n",
       "      <td>0.000000</td>\n",
       "      <td>0.000000</td>\n",
       "      <td>0.000000</td>\n",
       "      <td>0.000000</td>\n",
       "      <td>0.000000</td>\n",
       "      <td>0.000000</td>\n",
       "      <td>0.000000</td>\n",
       "    </tr>\n",
       "    <tr>\n",
       "      <th>25%</th>\n",
       "      <td>2.822414e+06</td>\n",
       "      <td>2.494751e+06</td>\n",
       "      <td>7.000000</td>\n",
       "      <td>18263.000000</td>\n",
       "      <td>0.000000</td>\n",
       "      <td>0.000000</td>\n",
       "      <td>5.500000</td>\n",
       "      <td>2.000000</td>\n",
       "      <td>0.000000</td>\n",
       "      <td>1.000000</td>\n",
       "      <td>0.000000</td>\n",
       "      <td>0.450000</td>\n",
       "    </tr>\n",
       "    <tr>\n",
       "      <th>50%</th>\n",
       "      <td>3.193478e+06</td>\n",
       "      <td>2.937516e+06</td>\n",
       "      <td>7.000000</td>\n",
       "      <td>22104.000000</td>\n",
       "      <td>0.000000</td>\n",
       "      <td>1.000000</td>\n",
       "      <td>51.100000</td>\n",
       "      <td>7.000000</td>\n",
       "      <td>2.000000</td>\n",
       "      <td>5.000000</td>\n",
       "      <td>0.333333</td>\n",
       "      <td>4.807143</td>\n",
       "    </tr>\n",
       "    <tr>\n",
       "      <th>75%</th>\n",
       "      <td>3.580423e+06</td>\n",
       "      <td>3.252785e+06</td>\n",
       "      <td>30.000000</td>\n",
       "      <td>25582.000000</td>\n",
       "      <td>0.000000</td>\n",
       "      <td>1.000000</td>\n",
       "      <td>163.700000</td>\n",
       "      <td>18.000000</td>\n",
       "      <td>8.000000</td>\n",
       "      <td>12.000000</td>\n",
       "      <td>0.580645</td>\n",
       "      <td>17.428571</td>\n",
       "    </tr>\n",
       "    <tr>\n",
       "      <th>max</th>\n",
       "      <td>3.714391e+06</td>\n",
       "      <td>3.391733e+06</td>\n",
       "      <td>31.000000</td>\n",
       "      <td>36858.000000</td>\n",
       "      <td>1.000000</td>\n",
       "      <td>1.000000</td>\n",
       "      <td>14580.800000</td>\n",
       "      <td>1496.000000</td>\n",
       "      <td>3097.000000</td>\n",
       "      <td>572.000000</td>\n",
       "      <td>132.666667</td>\n",
       "      <td>1733.333333</td>\n",
       "    </tr>\n",
       "  </tbody>\n",
       "</table>\n",
       "</div>"
      ],
      "text/plain": [
       "            user_id     ticket_id  free_trial_days        site_id  \\\n",
       "count  1.756210e+05  1.756210e+05    175621.000000  175621.000000   \n",
       "mean   3.134217e+06  2.866713e+06        15.318544   21308.973728   \n",
       "std    5.233589e+05  3.859204e+05        11.489155    6423.451119   \n",
       "min    2.000000e+00  2.289482e+06         0.000000      69.000000   \n",
       "25%    2.822414e+06  2.494751e+06         7.000000   18263.000000   \n",
       "50%    3.193478e+06  2.937516e+06         7.000000   22104.000000   \n",
       "75%    3.580423e+06  3.252785e+06        30.000000   25582.000000   \n",
       "max    3.714391e+06  3.391733e+06        31.000000   36858.000000   \n",
       "\n",
       "          promo_used      converted   time_watched  views_started  \\\n",
       "count  175621.000000  175621.000000  175621.000000  175621.000000   \n",
       "mean        0.072725       0.663605     205.461074      17.823939   \n",
       "std         0.259685       0.472477     565.275711      36.750675   \n",
       "min         0.000000       0.000000       0.000000       0.000000   \n",
       "25%         0.000000       0.000000       5.500000       2.000000   \n",
       "50%         0.000000       1.000000      51.100000       7.000000   \n",
       "75%         0.000000       1.000000     163.700000      18.000000   \n",
       "max         1.000000       1.000000   14580.800000    1496.000000   \n",
       "\n",
       "       views_finished    video_count  completion_rate  daily_view_time  \n",
       "count   175621.000000  175621.000000    175621.000000    175621.000000  \n",
       "mean         8.101554      10.649905         0.383329        15.777937  \n",
       "std         21.136853      18.010555         0.829323        32.099974  \n",
       "min          0.000000       0.000000         0.000000         0.000000  \n",
       "25%          0.000000       1.000000         0.000000         0.450000  \n",
       "50%          2.000000       5.000000         0.333333         4.807143  \n",
       "75%          8.000000      12.000000         0.580645        17.428571  \n",
       "max       3097.000000     572.000000       132.666667      1733.333333  "
      ]
     },
     "execution_count": 333,
     "metadata": {},
     "output_type": "execute_result"
    }
   ],
   "source": [
    "###Create dummies & new descriptive features\n",
    "data[\"domestic\"] = data.country == \"United States\"\n",
    "data[\"completion_rate\"] = data.views_finished/data.views_started\n",
    "data[\"is_web\"] = data.platform == \"web\"\n",
    "data[\"week_ft\"] = data.free_trial_days == 7\n",
    "data['daily_view_time'] = data.time_watched / data.free_trial_days\n",
    "\n",
    "###Replace null values\n",
    "data.time_watched.replace(np.NaN, 0, inplace=True)\n",
    "data.views_started.replace(np.NaN, 0, inplace=True)\n",
    "data.views_finished.replace(np.NaN, 0, inplace=True)\n",
    "data.video_count.replace(np.NaN, 0, inplace=True)\n",
    "data.converted.replace(np.NaN, 0, inplace = True)\n",
    "data.completion_rate.replace(np.NaN, 0, inplace = True)\n",
    "data.completion_rate.replace(np.inf, 0, inplace = True)\n",
    "data.daily_view_time.replace(np.inf, 0, inplace = True)\n",
    "data.daily_view_time.replace(np.NaN, 0, inplace = True)\n",
    "\n",
    "###to_numeric\n",
    "data.free_trial_days = pd.to_numeric(data.free_trial_days)\n",
    "data.time_watched = pd.to_numeric(data.time_watched)\n",
    "data.views_started = pd.to_numeric(data.views_started)\n",
    "data.converted = pd.to_numeric(data.converted)\n",
    "data.views_finished = pd.to_numeric(data.views_finished)\n",
    "data.promo_used = pd.to_numeric(data.promo_used)\n",
    "data.completion_rate = pd.to_numeric(data.completion_rate)\n",
    "\n",
    "data.describe()"
   ]
  },
  {
   "cell_type": "markdown",
   "metadata": {},
   "source": [
    "From the above describe, our video analytics data has a few outliers that I'd like to remove before starting analysis. In addition, I'd like to try sklearn's minmax scaler on my daily_view_time feature as another way to normalize our video analytics data and a potential precaution against outliers."
   ]
  },
  {
   "cell_type": "code",
   "execution_count": 334,
   "metadata": {},
   "outputs": [],
   "source": [
    "###remove all outliers\n",
    "\n",
    "from scipy import stats\n",
    "\n",
    "int_cols = ['time_watched','views_started','views_finished','video_count']\n",
    "\n",
    "data = data[(np.abs(stats.zscore(data[int_cols])) < 3).all(axis=1)]\n",
    "\n",
    "data = data[data['completion_rate'] < 1]\n",
    "data = data[data['free_trial_days'] > 0]"
   ]
  },
  {
   "cell_type": "code",
   "execution_count": 335,
   "metadata": {},
   "outputs": [],
   "source": [
    "###min/max scaling\n",
    "from sklearn.preprocessing import MinMaxScaler\n",
    "\n",
    "scaler = MinMaxScaler()\n",
    "data[\"daily_time_scaler\"] = scaler.fit_transform(data[['daily_view_time']])"
   ]
  },
  {
   "cell_type": "code",
   "execution_count": 336,
   "metadata": {},
   "outputs": [
    {
     "data": {
      "text/html": [
       "<div>\n",
       "<style scoped>\n",
       "    .dataframe tbody tr th:only-of-type {\n",
       "        vertical-align: middle;\n",
       "    }\n",
       "\n",
       "    .dataframe tbody tr th {\n",
       "        vertical-align: top;\n",
       "    }\n",
       "\n",
       "    .dataframe thead th {\n",
       "        text-align: right;\n",
       "    }\n",
       "</style>\n",
       "<table border=\"1\" class=\"dataframe\">\n",
       "  <thead>\n",
       "    <tr style=\"text-align: right;\">\n",
       "      <th></th>\n",
       "      <th>user_id</th>\n",
       "      <th>ticket_id</th>\n",
       "      <th>free_trial_days</th>\n",
       "      <th>site_id</th>\n",
       "      <th>promo_used</th>\n",
       "      <th>converted</th>\n",
       "      <th>time_watched</th>\n",
       "      <th>views_started</th>\n",
       "      <th>views_finished</th>\n",
       "      <th>video_count</th>\n",
       "      <th>completion_rate</th>\n",
       "      <th>daily_view_time</th>\n",
       "      <th>daily_time_scaler</th>\n",
       "    </tr>\n",
       "  </thead>\n",
       "  <tbody>\n",
       "    <tr>\n",
       "      <th>count</th>\n",
       "      <td>1.581210e+05</td>\n",
       "      <td>1.581210e+05</td>\n",
       "      <td>158121.000000</td>\n",
       "      <td>158121.000000</td>\n",
       "      <td>158121.000000</td>\n",
       "      <td>158121.000000</td>\n",
       "      <td>158121.000000</td>\n",
       "      <td>158121.000000</td>\n",
       "      <td>158121.000000</td>\n",
       "      <td>158121.000000</td>\n",
       "      <td>158121.000000</td>\n",
       "      <td>158121.000000</td>\n",
       "      <td>158121.000000</td>\n",
       "    </tr>\n",
       "    <tr>\n",
       "      <th>mean</th>\n",
       "      <td>3.133850e+06</td>\n",
       "      <td>2.864996e+06</td>\n",
       "      <td>15.165475</td>\n",
       "      <td>21351.987111</td>\n",
       "      <td>0.070358</td>\n",
       "      <td>0.657180</td>\n",
       "      <td>133.402225</td>\n",
       "      <td>13.479266</td>\n",
       "      <td>5.531662</td>\n",
       "      <td>8.454804</td>\n",
       "      <td>0.297870</td>\n",
       "      <td>12.758592</td>\n",
       "      <td>0.023649</td>\n",
       "    </tr>\n",
       "    <tr>\n",
       "      <th>std</th>\n",
       "      <td>5.218355e+05</td>\n",
       "      <td>3.862616e+05</td>\n",
       "      <td>11.451162</td>\n",
       "      <td>6439.226457</td>\n",
       "      <td>0.255749</td>\n",
       "      <td>0.474653</td>\n",
       "      <td>238.687679</td>\n",
       "      <td>18.326158</td>\n",
       "      <td>8.776449</td>\n",
       "      <td>10.391210</td>\n",
       "      <td>0.275356</td>\n",
       "      <td>22.264184</td>\n",
       "      <td>0.041268</td>\n",
       "    </tr>\n",
       "    <tr>\n",
       "      <th>min</th>\n",
       "      <td>1.150000e+02</td>\n",
       "      <td>2.289482e+06</td>\n",
       "      <td>3.000000</td>\n",
       "      <td>69.000000</td>\n",
       "      <td>0.000000</td>\n",
       "      <td>0.000000</td>\n",
       "      <td>0.000000</td>\n",
       "      <td>0.000000</td>\n",
       "      <td>0.000000</td>\n",
       "      <td>0.000000</td>\n",
       "      <td>0.000000</td>\n",
       "      <td>0.000000</td>\n",
       "      <td>0.000000</td>\n",
       "    </tr>\n",
       "    <tr>\n",
       "      <th>25%</th>\n",
       "      <td>2.821748e+06</td>\n",
       "      <td>2.492068e+06</td>\n",
       "      <td>7.000000</td>\n",
       "      <td>18263.000000</td>\n",
       "      <td>0.000000</td>\n",
       "      <td>0.000000</td>\n",
       "      <td>3.800000</td>\n",
       "      <td>2.000000</td>\n",
       "      <td>0.000000</td>\n",
       "      <td>2.000000</td>\n",
       "      <td>0.000000</td>\n",
       "      <td>0.293333</td>\n",
       "      <td>0.000544</td>\n",
       "    </tr>\n",
       "    <tr>\n",
       "      <th>50%</th>\n",
       "      <td>3.186902e+06</td>\n",
       "      <td>2.930137e+06</td>\n",
       "      <td>7.000000</td>\n",
       "      <td>22104.000000</td>\n",
       "      <td>0.000000</td>\n",
       "      <td>1.000000</td>\n",
       "      <td>47.300000</td>\n",
       "      <td>7.000000</td>\n",
       "      <td>2.000000</td>\n",
       "      <td>5.000000</td>\n",
       "      <td>0.272727</td>\n",
       "      <td>4.190000</td>\n",
       "      <td>0.007766</td>\n",
       "    </tr>\n",
       "    <tr>\n",
       "      <th>75%</th>\n",
       "      <td>3.580281e+06</td>\n",
       "      <td>3.252425e+06</td>\n",
       "      <td>30.000000</td>\n",
       "      <td>25890.000000</td>\n",
       "      <td>0.000000</td>\n",
       "      <td>1.000000</td>\n",
       "      <td>149.700000</td>\n",
       "      <td>17.000000</td>\n",
       "      <td>7.000000</td>\n",
       "      <td>11.000000</td>\n",
       "      <td>0.500000</td>\n",
       "      <td>15.703333</td>\n",
       "      <td>0.029107</td>\n",
       "    </tr>\n",
       "    <tr>\n",
       "      <th>max</th>\n",
       "      <td>3.714391e+06</td>\n",
       "      <td>3.391733e+06</td>\n",
       "      <td>31.000000</td>\n",
       "      <td>36858.000000</td>\n",
       "      <td>1.000000</td>\n",
       "      <td>1.000000</td>\n",
       "      <td>1901.200000</td>\n",
       "      <td>128.000000</td>\n",
       "      <td>71.000000</td>\n",
       "      <td>64.000000</td>\n",
       "      <td>0.982456</td>\n",
       "      <td>539.500000</td>\n",
       "      <td>1.000000</td>\n",
       "    </tr>\n",
       "  </tbody>\n",
       "</table>\n",
       "</div>"
      ],
      "text/plain": [
       "            user_id     ticket_id  free_trial_days        site_id  \\\n",
       "count  1.581210e+05  1.581210e+05    158121.000000  158121.000000   \n",
       "mean   3.133850e+06  2.864996e+06        15.165475   21351.987111   \n",
       "std    5.218355e+05  3.862616e+05        11.451162    6439.226457   \n",
       "min    1.150000e+02  2.289482e+06         3.000000      69.000000   \n",
       "25%    2.821748e+06  2.492068e+06         7.000000   18263.000000   \n",
       "50%    3.186902e+06  2.930137e+06         7.000000   22104.000000   \n",
       "75%    3.580281e+06  3.252425e+06        30.000000   25890.000000   \n",
       "max    3.714391e+06  3.391733e+06        31.000000   36858.000000   \n",
       "\n",
       "          promo_used      converted   time_watched  views_started  \\\n",
       "count  158121.000000  158121.000000  158121.000000  158121.000000   \n",
       "mean        0.070358       0.657180     133.402225      13.479266   \n",
       "std         0.255749       0.474653     238.687679      18.326158   \n",
       "min         0.000000       0.000000       0.000000       0.000000   \n",
       "25%         0.000000       0.000000       3.800000       2.000000   \n",
       "50%         0.000000       1.000000      47.300000       7.000000   \n",
       "75%         0.000000       1.000000     149.700000      17.000000   \n",
       "max         1.000000       1.000000    1901.200000     128.000000   \n",
       "\n",
       "       views_finished    video_count  completion_rate  daily_view_time  \\\n",
       "count   158121.000000  158121.000000    158121.000000    158121.000000   \n",
       "mean         5.531662       8.454804         0.297870        12.758592   \n",
       "std          8.776449      10.391210         0.275356        22.264184   \n",
       "min          0.000000       0.000000         0.000000         0.000000   \n",
       "25%          0.000000       2.000000         0.000000         0.293333   \n",
       "50%          2.000000       5.000000         0.272727         4.190000   \n",
       "75%          7.000000      11.000000         0.500000        15.703333   \n",
       "max         71.000000      64.000000         0.982456       539.500000   \n",
       "\n",
       "       daily_time_scaler  \n",
       "count      158121.000000  \n",
       "mean            0.023649  \n",
       "std             0.041268  \n",
       "min             0.000000  \n",
       "25%             0.000544  \n",
       "50%             0.007766  \n",
       "75%             0.029107  \n",
       "max             1.000000  "
      ]
     },
     "execution_count": 336,
     "metadata": {},
     "output_type": "execute_result"
    }
   ],
   "source": [
    "data.describe()"
   ]
  },
  {
   "cell_type": "markdown",
   "metadata": {},
   "source": [
    "### Tables & Visualizations"
   ]
  },
  {
   "cell_type": "code",
   "execution_count": 337,
   "metadata": {},
   "outputs": [
    {
     "data": {
      "text/plain": [
       "converted\n",
       "0     54207\n",
       "1    103914\n",
       "Name: user_id, dtype: int64"
      ]
     },
     "execution_count": 337,
     "metadata": {},
     "output_type": "execute_result"
    }
   ],
   "source": [
    "data.groupby('converted').user_id.count()"
   ]
  },
  {
   "cell_type": "markdown",
   "metadata": {},
   "source": [
    "I'd first like to test a few assumptions I have about our data. I believe that converters are: 1) more likely to be from the United States, 2) more likely to have longer free trial periods, 3) consume more content (in minutes) on a daily basis, 4) consume more videos (count unique video_ids) during their trial period, 5) more likely to have used a promo code when they onboarded."
   ]
  },
  {
   "cell_type": "code",
   "execution_count": 338,
   "metadata": {},
   "outputs": [
    {
     "data": {
      "text/plain": [
       "converted\n",
       "0     54207\n",
       "1    103914\n",
       "Name: domestic, dtype: int64"
      ]
     },
     "execution_count": 338,
     "metadata": {},
     "output_type": "execute_result"
    }
   ],
   "source": [
    "data.groupby('converted').domestic.count()"
   ]
  },
  {
   "cell_type": "code",
   "execution_count": 339,
   "metadata": {},
   "outputs": [
    {
     "data": {
      "text/plain": [
       "free_trial_days\n",
       "3     29292\n",
       "7     57100\n",
       "10       38\n",
       "14    15409\n",
       "28      861\n",
       "29       31\n",
       "30    47799\n",
       "31     7591\n",
       "Name: converted, dtype: int64"
      ]
     },
     "execution_count": 339,
     "metadata": {},
     "output_type": "execute_result"
    }
   ],
   "source": [
    "data.groupby('free_trial_days').converted.count()"
   ]
  },
  {
   "cell_type": "code",
   "execution_count": 340,
   "metadata": {},
   "outputs": [
    {
     "data": {
      "text/plain": [
       "converted\n",
       "0     9.699979\n",
       "1    14.354126\n",
       "Name: daily_view_time, dtype: float64"
      ]
     },
     "execution_count": 340,
     "metadata": {},
     "output_type": "execute_result"
    }
   ],
   "source": [
    "data.groupby('converted').daily_view_time.mean()"
   ]
  },
  {
   "cell_type": "code",
   "execution_count": 341,
   "metadata": {},
   "outputs": [
    {
     "data": {
      "text/plain": [
       "converted\n",
       "0    7.550298\n",
       "1    8.926641\n",
       "Name: video_count, dtype: float64"
      ]
     },
     "execution_count": 341,
     "metadata": {},
     "output_type": "execute_result"
    }
   ],
   "source": [
    "data.groupby('converted').video_count.mean()"
   ]
  },
  {
   "cell_type": "code",
   "execution_count": 342,
   "metadata": {},
   "outputs": [
    {
     "data": {
      "text/plain": [
       "converted\n",
       "0     54207\n",
       "1    103914\n",
       "Name: promo_used, dtype: int64"
      ]
     },
     "execution_count": 342,
     "metadata": {},
     "output_type": "execute_result"
    }
   ],
   "source": [
    "data.groupby('converted').promo_used.count()"
   ]
  },
  {
   "cell_type": "code",
   "execution_count": 343,
   "metadata": {},
   "outputs": [
    {
     "data": {
      "image/png": "[encoded data removed]",
      "text/plain": [
       "<matplotlib.figure.Figure at 0x1a1f64c390>"
      ]
     },
     "metadata": {},
     "output_type": "display_data"
    }
   ],
   "source": [
    "bins_range = np.array([20, 40, 60, 80, 100, 120, 140, 160, 180, 200, 220, 240, 260])\n",
    "hist_plot = plt.hist(data.daily_view_time, bins=bins_range)\n",
    "major_ticks = np.array([20, 40, 60, 80, 100, 120, 140, 160, 180, 200, 220, 240, 260])\n",
    "plt.xticks(major_ticks)\n",
    "plt.show()"
   ]
  },
  {
   "cell_type": "code",
   "execution_count": 344,
   "metadata": {},
   "outputs": [
    {
     "data": {
      "image/png": "[encoded data removed]",
      "text/plain": [
       "<matplotlib.figure.Figure at 0x1a1f4fcdd0>"
      ]
     },
     "metadata": {},
     "output_type": "display_data"
    }
   ],
   "source": [
    "f = data.platform.hist()"
   ]
  },
  {
   "cell_type": "code",
   "execution_count": 345,
   "metadata": {},
   "outputs": [
    {
     "data": {
      "image/png": "[encoded data removed]",
      "text/plain": [
       "<matplotlib.figure.Figure at 0x1a1ee64b90>"
      ]
     },
     "metadata": {},
     "output_type": "display_data"
    }
   ],
   "source": [
    "plt.title('Views Started vs Time Watched')\n",
    "plt.xlabel('views_started'), plt.ylabel('Time Watched')\n",
    "plt.xlim(0, 130), plt.ylim(0, 2000)\n",
    "f = plt.scatter(data.views_started, data.time_watched, linewidth=0, alpha=.1)"
   ]
  },
  {
   "cell_type": "code",
   "execution_count": 348,
   "metadata": {},
   "outputs": [
    {
     "data": {
      "image/png": "[encoded data removed]",
      "text/plain": [
       "<matplotlib.figure.Figure at 0x1a1fe74c50>"
      ]
     },
     "metadata": {},
     "output_type": "display_data"
    }
   ],
   "source": [
    "f = sns.boxplot(data[['daily_time_scaler']])"
   ]
  },
  {
   "cell_type": "code",
   "execution_count": 349,
   "metadata": {},
   "outputs": [
    {
     "name": "stderr",
     "output_type": "stream",
     "text": [
      "/Users/villarreala/anaconda2/lib/python2.7/site-packages/ipykernel_launcher.py:1: RuntimeWarning: divide by zero encountered in log10\n",
      "  \"\"\"Entry point for launching an IPython kernel.\n"
     ]
    },
    {
     "data": {
      "image/png": "[encoded data removed]",
      "text/plain": [
       "<matplotlib.figure.Figure at 0x1a1d1cb050>"
      ]
     },
     "metadata": {},
     "output_type": "display_data"
    }
   ],
   "source": [
    "dt_log = np.log10(data.daily_view_time)\n",
    "f = sns.boxplot(dt_log)"
   ]
  },
  {
   "cell_type": "markdown",
   "metadata": {},
   "source": [
    "Many of my assumptions were confirmed with the above exploratory analysis. However, I learned more converters come from 7 day free trials, as opposed to 30/31 days. I also learned that the daily_time_scaler is very skewed, and taking the log of daily_view_time creates a more normal distribution for the feature."
   ]
  },
  {
   "cell_type": "code",
   "execution_count": null,
   "metadata": {
    "collapsed": true
   },
   "outputs": [],
   "source": []
  }
 ],
 "metadata": {
  "kernelspec": {
   "display_name": "Python 3",
   "language": "python",
   "name": "python3"
  },
  "language_info": {
   "codemirror_mode": {
    "name": "ipython",
    "version": 3
   },
   "file_extension": ".py",
   "mimetype": "text/x-python",
   "name": "python",
   "nbconvert_exporter": "python",
   "pygments_lexer": "ipython3",
   "version": "3.6.3"
  }
 },
 "nbformat": 4,
 "nbformat_minor": 2
}
